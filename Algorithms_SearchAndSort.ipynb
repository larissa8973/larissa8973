{
 "cells": [
  {
   "cell_type": "code",
   "execution_count": 11,
   "metadata": {},
   "outputs": [
    {
     "name": "stdout",
     "output_type": "stream",
     "text": [
      "<__main__.SavingAccount object at 0x7f96118db3d0>\n",
      "s1 < s2 :  False\n",
      "s1 > s2 :  True\n",
      "s1 == s2 :  False\n",
      "s1 == s3 :  True\n"
     ]
    }
   ],
   "source": [
    "\"\"\" 搜索最小值 \"\"\"\n",
    "def indexOfMin(lyst):\n",
    "    \"\"\" Returns the index of minimum item \"\"\"\n",
    "    minIndex = 0\n",
    "    currentIndex = 1\n",
    "    while currentIndex < len(lyst):\n",
    "        if lyst[currentIndex] < lyst[minIndex]:\n",
    "            minIndex = currentIndex\n",
    "        currentIndex += 1\n",
    "    return minIndex\n",
    "\n",
    "\"\"\" 顺序搜索一个列表 \"\"\"\n",
    "def sequentialSearch(target, lyst):\n",
    "    \"\"\" Returns the position of the target in the lyst if found,\n",
    "    or -1 otherwise \"\"\"\n",
    "    position = 0\n",
    "    while position < len(lyst):\n",
    "        if target == lyst[position]:\n",
    "            return position\n",
    "        position += 1\n",
    "    return -1\n",
    "\n",
    "\"\"\" 有序列表的二叉搜索(相似于折半查找法) \"\"\"\n",
    "def binarySearch(target, sorrtedLyst):\n",
    "    left = 0\n",
    "    right = len(sorrtedLyst) - 1\n",
    "    while left < right:\n",
    "        midpoint = (left + right) // 2\n",
    "        if target == sorrtedLyst[midpoint]:\n",
    "            return midpoint\n",
    "        elif target < sorrtedLyst[midpoint]:\n",
    "            right = midpoint - 1\n",
    "        else:\n",
    "            left = midpoint + 1\n",
    "    return -1\n",
    "\n",
    "\"\"\" 比较数据项 \"\"\"\n",
    "class SavingAccount(object):\n",
    "    \"\"\" This class represents a saving accout with the owner's\n",
    "    name, PIN, and balance \"\"\"\n",
    "    def __init__(self, name, pin, balance=0.0):\n",
    "        self._name = name \n",
    "        self._pin = pin\n",
    "        self._balance = balance\n",
    "    def __lt__(self, other):    # 相当于使用__str__方法一样，对name进行比较\n",
    "        return self._name < other._name\n",
    "\n",
    "s1 = SavingAccount(\"Larissa\", \"0100\", 0)\n",
    "print(s1)\n",
    "s2 = SavingAccount(\"Ken\", \"0101\", 60)\n",
    "# s3 = SavingAccount(\"Larissa\", \"0100\", 0)   # 返回结果错误\n",
    "s3 = s1\n",
    "print(\"s1 < s2 : \", s1 < s2)\n",
    "print(\"s1 > s2 : \", s1 > s2)\n",
    "print(\"s1 == s2 : \", s1 == s2)\n",
    "print(\"s1 == s3 : \", s1 == s3)\n",
    "\n"
   ]
  },
  {
   "cell_type": "code",
   "execution_count": null,
   "metadata": {},
   "outputs": [],
   "source": [
    "\"\"\" 基本排序算法 \"\"\"\n",
    "def swap(lyst, i, j):\n",
    "    \"\"\" Exchange the items at position i and j \"\"\"\n",
    "    temp = lyst[i]\n",
    "    lyst[i] = lyst[j]\n",
    "    lyst[j] = temp"
   ]
  },
  {
   "cell_type": "code",
   "execution_count": 2,
   "metadata": {},
   "outputs": [
    {
     "name": "stdout",
     "output_type": "stream",
     "text": [
      "============选择排序法=============\n",
      "Round【1】\n",
      "5 12 41 11 32 \n",
      "\n",
      "Round【2】\n",
      "5 11 41 12 32 \n",
      "\n",
      "Round【3】\n",
      "5 11 12 41 32 \n",
      "\n",
      "Round【4】\n",
      "5 11 12 32 41 \n",
      "\n",
      "<class 'NoneType'>\n"
     ]
    }
   ],
   "source": [
    "print(\"{0:=^30}\".format(\"选择排序法\"))\n",
    "\"\"\" 选择排序法:最小的前移，其复杂度为O(n^2) \"\"\"\n",
    "def selectionSort(lyst):\n",
    "    i = 0\n",
    "    while i < len(lyst) - 1:\n",
    "        minIndex = i\n",
    "        j = i + 1\n",
    "        while j < len(lyst):\n",
    "            if lyst[j] < lyst[minIndex]:\n",
    "                minIndex = j\n",
    "            j += 1\n",
    "        if minIndex != i:\n",
    "            swap(lyst, minIndex, i)\n",
    "        i += 1\n",
    "        print(\"Round【%d】\" % i)\n",
    "        for k in range(len(lyst)):\n",
    "            print(\"%d \" % lyst[k], end=\"\")\n",
    "        print(\"\\n\")\n",
    "    # return lyst\n",
    "\n",
    "s1 = selectionSort([32, 12, 41, 11, 5])\n",
    "print(type(s1))\n",
    "# for i in range(len(s)):\n",
    "#     print(\"%d \" % s[i])\n"
   ]
  },
  {
   "cell_type": "code",
   "execution_count": 3,
   "metadata": {},
   "outputs": [
    {
     "name": "stdout",
     "output_type": "stream",
     "text": [
      "============冒泡排序法=============\n",
      "12 32 11 5 41 \n",
      "\n",
      "12 11 5 32 41 \n",
      "\n",
      "11 5 12 32 41 \n",
      "\n",
      "5 11 12 32 41 \n",
      "\n"
     ]
    }
   ],
   "source": [
    "print(\"{0:=^30}\".format(\"冒泡排序法\"))\n",
    "\"\"\" 冒泡排序法:最大的沉底，其复杂度为O(n^2) \"\"\"\n",
    "def bubbleSort(lyst):\n",
    "    n = len(lyst)\n",
    "    while n > 1:\n",
    "        i = 1\n",
    "        while i < n:\n",
    "            if lyst[i] < lyst[i-1]:\n",
    "                swap(lyst, i ,i-1)\n",
    "            i += 1\n",
    "        n -= 1\n",
    "        for k in range(len(lyst)):\n",
    "            print(\"%d \" % lyst[k], end=\"\")\n",
    "        print(\"\\n\")\n",
    "\n",
    "s2 = bubbleSort([32, 12, 41, 11, 5])\n"
   ]
  },
  {
   "cell_type": "code",
   "execution_count": 5,
   "metadata": {},
   "outputs": [
    {
     "name": "stdout",
     "output_type": "stream",
     "text": [
      "============插入排序法=============\n",
      "12 32 41 11 5 \n",
      "\n",
      "12 32 41 11 5 \n",
      "\n",
      "11 12 32 41 5 \n",
      "\n",
      "5 11 12 32 41 \n",
      "\n"
     ]
    }
   ],
   "source": [
    "print(\"{0:=^30}\".format(\"插入排序法\"))\n",
    "\"\"\" 插入排序法:最大的沉底，其复杂度为O(n^2) \"\"\"\n",
    "def insertionSort(lyst):\n",
    "    i = 1\n",
    "    while i < len(lyst):\n",
    "        itemToInsert = lyst[i]\n",
    "        j = i - 1\n",
    "        while j >= 0:\n",
    "            if itemToInsert < lyst[j]:\n",
    "                lyst[j + 1] = lyst[j]\n",
    "                j -= 1\n",
    "            else:\n",
    "                break\n",
    "        lyst[j + 1] = itemToInsert\n",
    "        i += 1\n",
    "        for k in range(len(lyst)):\n",
    "            print(\"%d \" % lyst[k], end=\"\")\n",
    "        print(\"\\n\")\n",
    "\n",
    "s3 = insertionSort([32, 12, 41, 11, 5])"
   ]
  },
  {
   "cell_type": "code",
   "execution_count": 4,
   "metadata": {},
   "outputs": [
    {
     "name": "stdout",
     "output_type": "stream",
     "text": [
      "============快速排序法=============\n",
      "5 11 12 32 41 \n",
      "\n"
     ]
    }
   ],
   "source": [
    "\"\"\" 快速排序法:建立基准点和边界，将基准点放在最后与边界形成排序区间，每遍历一轮将小的数与第一项交换并前移边界, \n",
    "    最坏的情况下，其复杂度为O(n^2)，使用递归后是O(n)\"\"\"\n",
    "print(\"{0:=^30}\".format(\"快速排序法\"))\n",
    "def paritition(lyst, left, right):\n",
    "    # Find the pivot and exchange it with the last item\n",
    "    middle = (left + right) // 2\n",
    "    pivot = lyst[middle]\n",
    "    lyst[middle] = lyst[right]\n",
    "    lyst[right] = pivot\n",
    "    # Set boundary point to first position\n",
    "    boundary = left\n",
    "    # Move items less than pivot to the left\n",
    "    for index in range(left, right):\n",
    "        if lyst[index] < pivot:\n",
    "            swap(lyst, index, boundary)\n",
    "            boundary += 1\n",
    "    # Exchange the pivot item and boundary item\n",
    "    swap(lyst, right, boundary)\n",
    "    return boundary\n",
    "\n",
    "def quicksortHelper(lyst, left, right):\n",
    "    if left < right:\n",
    "        pivotLocation = paritition(lyst, left, right)\n",
    "        quicksortHelper(lyst, left, pivotLocation - 1)\n",
    "        quicksortHelper(lyst, pivotLocation + 1, right)\n",
    "\n",
    "def quicksort(lyst):\n",
    "    quicksortHelper(lyst, 0, len(lyst) - 1)\n",
    "    for k in range(len(lyst)):\n",
    "        print(\"%d \" % lyst[k], end=\"\")\n",
    "    print(\"\\n\")\n",
    "\n",
    "s4 = quicksort([32, 12, 41, 11, 5])"
   ]
  },
  {
   "cell_type": "code",
   "execution_count": 34,
   "metadata": {},
   "outputs": [
    {
     "name": "stdout",
     "output_type": "stream",
     "text": [
      "============合并排序法=============\n",
      "<class 'NoneType'>\n"
     ]
    }
   ],
   "source": [
    "\"\"\" 合并排序法:用了递归、分而治之的策略突破复杂度为O(n^2)。\n",
    "在一个列表中间分割成左右子列表，递归排序在合并，直至子列表不能分割为止 \"\"\"\n",
    "print(\"{0:=^30}\".format(\"合并排序法\"))\n",
    "from numpy import array\n",
    "\n",
    "\"\"\" To divdie into several sublists \"\"\"\n",
    "def mergeSortHelper(lyst, copyBuffer, low, high):\n",
    "    # copyBuffer    temporary space needed during merge\n",
    "    # low, high     bounds of sunblist\n",
    "    # midddle       midpoint of sublist\n",
    "    if low < high:\n",
    "        middle = (low + high) // 2\n",
    "        mergeSortHelper(lyst, copyBuffer, low, middle)\n",
    "        mergeSortHelper(lyst, copyBuffer, middle+1, high)\n",
    "        merge(lyst, copyBuffer, low, middle, high)\n",
    "\n",
    "\"\"\" To sort all the sublists in order and return to one list \"\"\"\n",
    "def mergeSort(lyst):\n",
    "    # copyBuffer temporary space needed during merge\n",
    "    copyBuffer = array(len(lyst))\n",
    "    mergeSortHelper(lyst, copyBuffer, 0, len(lyst)-1)\n",
    "\n",
    "\"\"\" Connact two sorted arrays into one list \"\"\"\n",
    "def merge(lyst, copyBuffer, low, middle, high):\n",
    "    # Initialize i1 and i2 to the first items in each sublist\n",
    "    i1 = low\n",
    "    i2 = middle + 1\n",
    "    # Interleave items from the sublist into the copyBuffer in such a way that order is maintained\n",
    "    for i in range(low, high+1):\n",
    "        if i1 > middle:\n",
    "            copyBuffer[i] = lyst[i2]    # First sublist exhausted\n",
    "            i2 += 1\n",
    "        elif i2 > high:\n",
    "            copyBuffer[i] = lyst[i1]    # Second sublist exhausted\n",
    "            i1 += 1\n",
    "        elif lyst[i1] < lyst[i2]:\n",
    "            copyBuffer[i] = lyst[i1]    # Item in the first sublist \n",
    "            i1 += 1\n",
    "        else:\n",
    "            copyBuffer[i] = lyst[i2]    # Item in the second sublist \n",
    "            i2 += 1\n",
    "    for i in range(low, high+1):\n",
    "        lyst[i] = copyBuffer[i]     # Copy sorted items back to proper position in lyst\n",
    "\n",
    "l = [38]\n",
    "l1 = mergeSort(l)\n",
    "print(type(l1))\n",
    "\n",
    "\n"
   ]
  },
  {
   "cell_type": "code",
   "execution_count": 6,
   "metadata": {},
   "outputs": [
    {
     "name": "stdout",
     "output_type": "stream",
     "text": [
      "[8, 15, 17, 14, 6, 19, 21, 14, 10, 12, 2, 9, 7, 5, 13, 21, 3, 5, 9, 6]\n",
      "[2, 3, 5, 5, 6, 6, 7, 8, 9, 9, 10, 12, 13, 14, 14, 15, 17, 19, 21, 21]\n"
     ]
    }
   ],
   "source": [
    "\"\"\" 早期的swap函数实现 \"\"\"\n",
    "import random\n",
    "def paritition(lyst, left, right):\n",
    "    # Find the pivot and exchange it with the last item\n",
    "    middle = (left + right) // 2\n",
    "    pivot = lyst[middle]\n",
    "    lyst[middle] = lyst[right]\n",
    "    lyst[right] = pivot\n",
    "    # Set boundary point to first position\n",
    "    boundary = left\n",
    "    # Move items less than pivot to the left\n",
    "    for index in range(left, right):\n",
    "        if lyst[index] < pivot:\n",
    "            swap(lyst, index, boundary)\n",
    "            boundary += 1\n",
    "    # Exchange the pivot item and boundary item\n",
    "    swap(lyst, right, boundary)\n",
    "    return boundary\n",
    "\n",
    "def quicksortHelper(lyst, left, right):\n",
    "    if left < right:\n",
    "        pivotLocation = paritition(lyst, left, right)\n",
    "        quicksortHelper(lyst, left, pivotLocation - 1)\n",
    "        quicksortHelper(lyst, pivotLocation + 1, right)\n",
    "\n",
    "def quicksort(lyst):\n",
    "    quicksortHelper(lyst, 0, len(lyst) - 1)\n",
    "\n",
    "def main(size = 20, sort = quicksort):\n",
    "    lyst = []\n",
    "    for count in range(size):\n",
    "        lyst.append(random.randint(1, size+1))\n",
    "    print(lyst)\n",
    "    sort(lyst)\n",
    "    print(lyst)\n",
    "\n",
    "if __name__ == \"__main__\":\n",
    "    main()\n"
   ]
  },
  {
   "cell_type": "code",
   "execution_count": null,
   "metadata": {},
   "outputs": [],
   "source": []
  },
  {
   "cell_type": "code",
   "execution_count": null,
   "metadata": {},
   "outputs": [],
   "source": []
  }
 ],
 "metadata": {
  "kernelspec": {
   "display_name": "Python 3.9.12 ('base')",
   "language": "python",
   "name": "python3"
  },
  "language_info": {
   "codemirror_mode": {
    "name": "ipython",
    "version": 3
   },
   "file_extension": ".py",
   "mimetype": "text/x-python",
   "name": "python",
   "nbconvert_exporter": "python",
   "pygments_lexer": "ipython3",
   "version": "3.9.12"
  },
  "orig_nbformat": 4,
  "vscode": {
   "interpreter": {
    "hash": "b469884beba4e0767400272b8d8f6ff7739801d2f4712ed5b8e45a41c7f63c7c"
   }
  }
 },
 "nbformat": 4,
 "nbformat_minor": 2
}
