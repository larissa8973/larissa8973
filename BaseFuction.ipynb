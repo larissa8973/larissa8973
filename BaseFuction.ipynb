{
 "cells": [
  {
   "cell_type": "code",
   "execution_count": 1,
   "metadata": {},
   "outputs": [
    {
     "name": "stdout",
     "output_type": "stream",
     "text": [
      " 1 4\n",
      "     2 4\n",
      "         3 4\n",
      "             4 4\n",
      "                 5 4\n",
      "                 0\n",
      "             4\n",
      "         7\n",
      "     9\n",
      " 10\n"
     ]
    },
    {
     "data": {
      "text/plain": [
       "10"
      ]
     },
     "execution_count": 1,
     "metadata": {},
     "output_type": "execute_result"
    }
   ],
   "source": [
    "\"\"\" 递归函数的调用 \"\"\"\n",
    "def oursum(lower, upper, margin = 0):\n",
    "    \"\"\" return the sum of the numbers from lower to upper, and ouputs a trace of the arguments \n",
    "    and return values on each call \"\"\"\n",
    "    blanks = \" \" * margin\n",
    "    print(blanks, lower, upper)\n",
    "    if lower  > upper:\n",
    "        print(blanks, 0)\n",
    "        return 0\n",
    "    else:\n",
    "        result = lower + oursum(lower+1, upper, margin+4)\n",
    "        print(blanks, result)\n",
    "        return result\n",
    "\n",
    "oursum(1, 4)"
   ]
  },
  {
   "cell_type": "code",
   "execution_count": 1,
   "metadata": {},
   "outputs": [
    {
     "name": "stdout",
     "output_type": "stream",
     "text": [
      "Your age is  23\n"
     ]
    }
   ],
   "source": [
    "\"\"\" Demonstrates a function that traps number format errors during input \"\"\"\n",
    "def safeIntergerInput(prompt):\n",
    "    \"\"\" Prompt the user for an integer and returns the integer if it is\n",
    "    well-formed. Otherwise, print an error message and repeats this process. \"\"\"\n",
    "    inputString = input(prompt)\n",
    "    try:\n",
    "        number = int(inputString)\n",
    "        return number\n",
    "    except ValueError:\n",
    "        print(\"Enter in number format: \", inputString)\n",
    "        return safeIntergerInput(\"Enter your age: \")\n",
    "\n",
    "if __name__ == \"__main__\":      # 此为测试文件，含义为导入一个默认命名为main()的、含有所有测试模块的文件\n",
    "    age = safeIntergerInput(\"Enter your age: \")\n",
    "    print(\"Your age is \", age)"
   ]
  },
  {
   "cell_type": "code",
   "execution_count": 8,
   "metadata": {},
   "outputs": [
    {
     "name": "stdout",
     "output_type": "stream",
     "text": [
      "0\n",
      "4\n",
      "2\n",
      "0\n",
      "2\n"
     ]
    },
    {
     "data": {
      "text/plain": [
       "True"
      ]
     },
     "execution_count": 8,
     "metadata": {},
     "output_type": "execute_result"
    }
   ],
   "source": [
    "\"\"\" 类的定义 \"\"\"\n",
    "class Counter(object):\n",
    "    \"\"\" models a counter \"\"\"\n",
    "    # Class variable\n",
    "    instances = 0\n",
    "    # Constructor\n",
    "    def __init__(self):\n",
    "        \"\"\" Sets up the counter \"\"\"\n",
    "        Counter.instances += 1\n",
    "        self.reset()\n",
    "    # Mutator methods\n",
    "    def reset(self):\n",
    "        \"\"\" Sets the counter to 0 \"\"\"\n",
    "        self._value = 0\n",
    "    def increment(self, amount = 1):\n",
    "        \"\"\" Adds amount to the counter \"\"\"\n",
    "        self._value += amount\n",
    "    def decrement(self, amount = 1):\n",
    "        \"\"\" Substracts amount to the counter \"\"\"\n",
    "        self._value -= amount\n",
    "    # Accessor methods\n",
    "    def getValue(self):\n",
    "        \"\"\" Return the counter's value \"\"\"\n",
    "        return self._value\n",
    "    def __str__(self):\n",
    "        \"\"\" Return a string representation of the counter \"\"\"\n",
    "        return str(self._value)\n",
    "    def __eq__(self, other):\n",
    "        \"\"\" Returns True if self equals other of False otherwise \"\"\"\n",
    "        if self is other: return True\n",
    "        if type(self) != type(other): return False\n",
    "        return self._value == other._value\n",
    "\n",
    "c1 = Counter()\n",
    "print(c1)\n",
    "c1.getValue()\n",
    "str(c1)\n",
    "c1.increment(4)\n",
    "print(c1)\n",
    "c1.decrement(2)\n",
    "print(c1)\n",
    "c1.reset()\n",
    "print(c1)\n",
    "\n",
    "c2 = Counter()\n",
    "print(Counter.instances)\n",
    "c1 == c2"
   ]
  },
  {
   "cell_type": "code",
   "execution_count": null,
   "metadata": {},
   "outputs": [],
   "source": []
  },
  {
   "cell_type": "code",
   "execution_count": null,
   "metadata": {},
   "outputs": [],
   "source": []
  }
 ],
 "metadata": {
  "kernelspec": {
   "display_name": "Python 3.7.13 ('deeplearning')",
   "language": "python",
   "name": "python3"
  },
  "language_info": {
   "codemirror_mode": {
    "name": "ipython",
    "version": 3
   },
   "file_extension": ".py",
   "mimetype": "text/x-python",
   "name": "python",
   "nbconvert_exporter": "python",
   "pygments_lexer": "ipython3",
   "version": "3.7.13"
  },
  "orig_nbformat": 4,
  "vscode": {
   "interpreter": {
    "hash": "a3f599b3f50d166f8188fd373df540ff51a2223b7cd2b97c190a7287b10e7852"
   }
  }
 },
 "nbformat": 4,
 "nbformat_minor": 2
}
